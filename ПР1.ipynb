{
  "nbformat": 4,
  "nbformat_minor": 0,
  "metadata": {
    "colab": {
      "name": "ПР1",
      "provenance": [],
      "collapsed_sections": [],
      "authorship_tag": "ABX9TyNhRkJDZUdJS1c3lw0LsFBG",
      "include_colab_link": true
    },
    "kernelspec": {
      "name": "python3",
      "display_name": "Python 3"
    }
  },
  "cells": [
    {
      "cell_type": "markdown",
      "metadata": {
        "id": "view-in-github",
        "colab_type": "text"
      },
      "source": [
        "<a href=\"https://colab.research.google.com/github/Anastasiia011/lab1/blob/main/%D0%9F%D0%A01.ipynb\" target=\"_parent\"><img src=\"https://colab.research.google.com/assets/colab-badge.svg\" alt=\"Open In Colab\"/></a>"
      ]
    },
    {
      "cell_type": "markdown",
      "metadata": {
        "id": "HldaYBVqSxhk"
      },
      "source": [
        "Ильина Анастасия Васильевна, КИ19-22Б, 16.02.2021"
      ]
    },
    {
      "cell_type": "code",
      "metadata": {
        "id": "B2akrGCpS1De"
      },
      "source": [
        "#@title Привет, мир!"
      ],
      "execution_count": null,
      "outputs": []
    }
  ]
}